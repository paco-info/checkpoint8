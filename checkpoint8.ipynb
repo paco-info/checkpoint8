{
 "cells": [
  {
   "cell_type": "code",
   "execution_count": null,
   "id": "1f5b30cf",
   "metadata": {},
   "outputs": [],
   "source": [
    "# ce checkpoint sera disponible d'ici quelque jours\n",
    "# je veux aller très vite \n",
    "# les weekend je traite le maximum de checkpoint "
   ]
  }
 ],
 "metadata": {
  "kernelspec": {
   "display_name": "Python 3 (ipykernel)",
   "language": "python",
   "name": "python3"
  },
  "language_info": {
   "codemirror_mode": {
    "name": "ipython",
    "version": 3
   },
   "file_extension": ".py",
   "mimetype": "text/x-python",
   "name": "python",
   "nbconvert_exporter": "python",
   "pygments_lexer": "ipython3",
   "version": "3.9.12"
  }
 },
 "nbformat": 4,
 "nbformat_minor": 5
}
